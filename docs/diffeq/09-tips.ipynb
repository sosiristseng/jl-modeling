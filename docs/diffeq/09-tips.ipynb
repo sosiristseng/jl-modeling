{
 "cells": [
  {
   "cell_type": "markdown",
   "metadata": {},
   "source": [
    "# Tips"
   ]
  },
  {
   "cell_type": "markdown",
   "metadata": {},
   "source": [
    "## Differentiable smooth functions\n",
    "\n",
    "Smooth and differentiable functions are more friendly for automatic differentiation (AD) and differential equation solvers.\n",
    "\n",
    "### Smooth Heaviside step function\n",
    "\n",
    "A [Heaviside step function](https://en.wikipedia.org/wiki/Heaviside_step_function) (0 when x < a, 1 when x > a) could be approximated with a steep [logistic function](https://en.wikipedia.org/wiki/Logistic_function)."
   ]
  },
  {
   "cell_type": "code",
   "execution_count": null,
   "metadata": {},
   "outputs": [],
   "source": [
    "using Plots\n",
    "Plots.default(fmt=:png)"
   ]
  },
  {
   "cell_type": "code",
   "execution_count": null,
   "metadata": {},
   "outputs": [],
   "source": [
    "function smoothheaviside(x, k=100)\n",
    "    1 / (1 + exp(-k * x))\n",
    "end"
   ]
  },
  {
   "cell_type": "markdown",
   "metadata": {},
   "source": [
    "The function output switches from zero to one around `x=0`."
   ]
  },
  {
   "cell_type": "code",
   "execution_count": null,
   "metadata": {},
   "outputs": [],
   "source": [
    "plot(smoothheaviside, -1, 1)"
   ]
  },
  {
   "cell_type": "markdown",
   "metadata": {},
   "source": [
    "### Smooth single pulse\n",
    "\n",
    "A single pulse could be approximated with a product of two logistic functions."
   ]
  },
  {
   "cell_type": "code",
   "execution_count": null,
   "metadata": {},
   "outputs": [],
   "source": [
    "function singlepulse(x, t0=0, t1=0.1, k=1000)\n",
    "    smoothheaviside(x - t0, k) * smoothheaviside(t1 - x, k)\n",
    "end"
   ]
  },
  {
   "cell_type": "code",
   "execution_count": null,
   "metadata": {},
   "outputs": [],
   "source": [
    "plot(singlepulse, -1, 1)"
   ]
  },
  {
   "cell_type": "markdown",
   "metadata": {},
   "source": [
    "### Smooth absolute value\n",
    "\n",
    "Inspired by: https://discourse.julialang.org/t/smooth-approximation-to-max-0-x/109383/13"
   ]
  },
  {
   "cell_type": "code",
   "execution_count": null,
   "metadata": {},
   "outputs": [],
   "source": [
    "# Approximate abs(x)\n",
    "function smooth_abs(x; c=(1//2)^10)\n",
    "    sqrt(x^2 + c^2) - c\n",
    "end"
   ]
  },
  {
   "cell_type": "code",
   "execution_count": null,
   "metadata": {},
   "outputs": [],
   "source": [
    "plot(smooth_abs, -10, 10, label=\"Smooth abs\")"
   ]
  },
  {
   "cell_type": "markdown",
   "metadata": {},
   "source": [
    "### Smooth max function\n",
    "\n",
    "Approximate `max(0, x)`"
   ]
  },
  {
   "cell_type": "code",
   "execution_count": null,
   "metadata": {},
   "outputs": [],
   "source": [
    "function smooth_max(x; c=(1//2)^10)\n",
    "    0.5 * (x + smooth_abs(x;c))\n",
    "end"
   ]
  },
  {
   "cell_type": "code",
   "execution_count": null,
   "metadata": {},
   "outputs": [],
   "source": [
    "plot(smooth_max, -10, 10, label=\"Smooth max\")"
   ]
  },
  {
   "cell_type": "markdown",
   "metadata": {},
   "source": [
    "### Smooth minimal function\n",
    "\n",
    "Approximate `min(0, x)`"
   ]
  },
  {
   "cell_type": "code",
   "execution_count": null,
   "metadata": {},
   "outputs": [],
   "source": [
    "function smooth_min(x; c=(1//2)^10)\n",
    "    0.5 * (smooth_abs(x;c) - x)\n",
    "end"
   ]
  },
  {
   "cell_type": "code",
   "execution_count": null,
   "metadata": {},
   "outputs": [],
   "source": [
    "plot(smooth_min, -10, 10, label=\"Smooth min\")"
   ]
  },
  {
   "cell_type": "markdown",
   "metadata": {},
   "source": [
    "### (Another) smooth step function"
   ]
  },
  {
   "cell_type": "code",
   "execution_count": null,
   "metadata": {},
   "outputs": [],
   "source": [
    "function smooth_step(x; c=(1//2)^10)\n",
    "    0.5 * (x / (sqrt(x^2 + c)) + 1)\n",
    "end"
   ]
  },
  {
   "cell_type": "code",
   "execution_count": null,
   "metadata": {},
   "outputs": [],
   "source": [
    "plot(smooth_step, -10, 10, label=\"Smooth step\")"
   ]
  },
  {
   "cell_type": "markdown",
   "metadata": {},
   "source": [
    "### Periodic pulses\n",
    "\n",
    "From: https://www.noamross.net/2015/11/12/a-smooth-differentiable-pulse-function/"
   ]
  },
  {
   "cell_type": "code",
   "execution_count": null,
   "metadata": {},
   "outputs": [],
   "source": [
    "function smoothpulses(t, tstart, tend, period=1, amplitude=period / (tend - tstart), steepness=1000)\n",
    "    @assert tstart < tend < period\n",
    "    xi = 3 / 4 - (tend - tstart) / (2 * period)\n",
    "    p = inv(1 + exp(steepness * (sinpi(2 * ((t - tstart) / period + xi)) - sinpi(2 * xi))))\n",
    "    return amplitude * p\n",
    "end"
   ]
  },
  {
   "cell_type": "code",
   "execution_count": null,
   "metadata": {},
   "outputs": [],
   "source": [
    "plot(t->smoothpulses(t, 0.2, 0.3, 0.5), 0.0, 2.0, lab=\"pulses\")"
   ]
  },
  {
   "cell_type": "markdown",
   "metadata": {},
   "source": [
    "## Avoid DomainErrors\n",
    "\n",
    "Some functions such as `sqrt(x)`, `log(x)`, and `pow(x)`, throw `DomainError` exceptions with negative `x`, interrupting differential equation solvers. One can use the respective functions in https://github.com/JuliaMath/NaNMath.jl, returning `NaN` instead of throwing a `DomainError`. Then, the differential equation solvers will reject the solution and retry with a smaller time step."
   ]
  },
  {
   "cell_type": "code",
   "execution_count": null,
   "metadata": {},
   "outputs": [],
   "source": [
    "import NaNMath as nm\n",
    "nm.sqrt(-1.0) ## returns NaN"
   ]
  },
  {
   "cell_type": "markdown",
   "metadata": {},
   "source": [
    "## ODE function from an MTK ODE system\n",
    "\n",
    "`f = ODEFunction(sys)` could be useful in visualizing vector fields."
   ]
  },
  {
   "cell_type": "code",
   "execution_count": null,
   "metadata": {},
   "outputs": [],
   "source": [
    "using ModelingToolkit\n",
    "using DifferentialEquations\n",
    "using Plots"
   ]
  },
  {
   "cell_type": "markdown",
   "metadata": {},
   "source": [
    "Independent (time) and dependent (state) variables (x and RHS)"
   ]
  },
  {
   "cell_type": "code",
   "execution_count": null,
   "metadata": {},
   "outputs": [],
   "source": [
    "@variables t x(t) RHS(t)"
   ]
  },
  {
   "cell_type": "markdown",
   "metadata": {},
   "source": [
    "Setting parameters in the modeling"
   ]
  },
  {
   "cell_type": "code",
   "execution_count": null,
   "metadata": {},
   "outputs": [],
   "source": [
    "@parameters τ"
   ]
  },
  {
   "cell_type": "markdown",
   "metadata": {},
   "source": [
    "Differential operator w.r.t. time"
   ]
  },
  {
   "cell_type": "code",
   "execution_count": null,
   "metadata": {},
   "outputs": [],
   "source": [
    "D = Differential(t)"
   ]
  },
  {
   "cell_type": "markdown",
   "metadata": {},
   "source": [
    "Equations in MTK use the tilde character (`~`) as equality.\n",
    "very MTK system requires a name. The `@named` macro simply ensures that the symbolic name matches the name in the REPL."
   ]
  },
  {
   "cell_type": "code",
   "execution_count": null,
   "metadata": {},
   "outputs": [],
   "source": [
    "eqs = [\n",
    "    RHS  ~ (1 - x)/τ,\n",
    "    D(x) ~ RHS\n",
    "]\n",
    "\n",
    "@named fol_separate = ODESystem(eqs, t)"
   ]
  },
  {
   "cell_type": "code",
   "execution_count": null,
   "metadata": {},
   "outputs": [],
   "source": [
    "sys = structural_simplify(fol_separate)"
   ]
  },
  {
   "cell_type": "code",
   "execution_count": null,
   "metadata": {},
   "outputs": [],
   "source": [
    "f = ODEFunction(sys)"
   ]
  },
  {
   "cell_type": "code",
   "execution_count": null,
   "metadata": {},
   "outputs": [],
   "source": [
    "f([0.0], [1.0], 0.0) # f(u, p, t) returns the value of derivatives"
   ]
  }
 ],
 "metadata": {
  "kernelspec": {
   "display_name": "Julia 1.10.4",
   "language": "julia",
   "name": "julia-1.10"
  },
  "language_info": {
   "file_extension": ".jl",
   "mimetype": "application/julia",
   "name": "julia",
   "version": "1.10.4"
  }
 },
 "nbformat": 4,
 "nbformat_minor": 2
}
