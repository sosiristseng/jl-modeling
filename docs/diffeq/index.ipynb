{
 "cells": [
  {
   "cell_type": "markdown",
   "metadata": {},
   "source": [
    "# Julia Differential Equations\n",
    "\n",
    "- https://github.com/SciML/DifferentialEquations.jl : high-performance solvers for differential equations.\n",
    "- https://github.com/SciML/ModelingToolkit.jl : a modeling framework for high-performance symbolic-numeric computation in scientific computing and scientific machine learning\n",
    "- https://github.com/SciML/Catalyst.jl : a symbolic modeling package for analysis and high performance simulation of chemical reaction networks.\n",
    "\n",
    "## Runtime environment"
   ]
  },
  {
   "cell_type": "code",
   "execution_count": null,
   "metadata": {},
   "outputs": [],
   "source": [
    "import InteractiveUtils\n",
    "InteractiveUtils.versioninfo()"
   ]
  },
  {
   "cell_type": "code",
   "execution_count": null,
   "metadata": {},
   "outputs": [],
   "source": [
    "import Pkg\n",
    "Pkg.status()"
   ]
  }
 ],
 "metadata": {
  "kernelspec": {
   "display_name": "Julia 1.10.3",
   "language": "julia",
   "name": "julia-1.10"
  },
  "language_info": {
   "file_extension": ".jl",
   "mimetype": "application/julia",
   "name": "julia",
   "version": "1.10.3"
  }
 },
 "nbformat": 4,
 "nbformat_minor": 3
}
