{
 "cells": [
  {
   "cell_type": "markdown",
   "source": [
    "# Flocking model\n",
    "\n",
    "Continous-space agent interactions. [Source](https://juliadynamics.github.io/Agents.jl/stable/examples/flock/)\n",
    "\n",
    "Each agent follows three simple rules:\n",
    "\n",
    "+ maintain a minimum distance from other birds to avoid collision\n",
    "+ fly towards the average position of neighbors\n",
    "+ fly in the average direction of neighbors"
   ],
   "metadata": {}
  },
  {
   "outputs": [],
   "cell_type": "code",
   "source": [
    "using Agents\n",
    "using Random\n",
    "using LinearAlgebra\n",
    "using Base64\n",
    "using CairoMakie\n",
    "CairoMakie.activate!(px_per_unit = 1.0)"
   ],
   "metadata": {},
   "execution_count": null
  },
  {
   "cell_type": "markdown",
   "source": [
    "The helper function is adapted from `Agents.abmvideo` and correctly displays animations in Jupyter notebooks"
   ],
   "metadata": {}
  },
  {
   "outputs": [],
   "cell_type": "code",
   "source": [
    "function abmvio(model;\n",
    "    dt = 1, framerate = 30, frames = 300, title = \"\", showstep = true,\n",
    "    figure = (size = (600, 600),), axis = NamedTuple(),\n",
    "    recordkwargs = (compression = 23, format =\"mp4\"), kwargs...\n",
    ")\n",
    "    # title and steps\n",
    "    abmtime_obs = Observable(abmtime(model))\n",
    "    if title ≠ \"\" && showstep\n",
    "        t = lift(x -> title*\", time = \"*string(x), abmtime_obs)\n",
    "    elseif showstep\n",
    "        t = lift(x -> \"time = \"*string(x), abmtime_obs)\n",
    "    else\n",
    "        t = title\n",
    "    end\n",
    "\n",
    "    axis = (title = t, titlealign = :left, axis...)\n",
    "    # First frame\n",
    "    fig, ax, abmobs = abmplot(model; add_controls = false, warn_deprecation = false, figure, axis, kwargs...)\n",
    "    resize_to_layout!(fig)\n",
    "    # Animation\n",
    "    Makie.Record(fig; framerate, recordkwargs...) do io\n",
    "        for j in 1:frames-1\n",
    "            recordframe!(io)\n",
    "            Agents.step!(abmobs, dt)\n",
    "            abmtime_obs[] = abmtime(model)\n",
    "        end\n",
    "        recordframe!(io)\n",
    "    end\n",
    "end"
   ],
   "metadata": {},
   "execution_count": null
  },
  {
   "cell_type": "markdown",
   "source": [
    "This agents has also three properties inherited from ContinuousAgent\n",
    "\n",
    "+ id : unique identifier\n",
    "+ pos : XY coordinate\n",
    "+ vel: XY velocity"
   ],
   "metadata": {}
  },
  {
   "outputs": [],
   "cell_type": "code",
   "source": [
    "@agent struct Bird(ContinuousAgent{2,Float64})\n",
    "    speed::Float64\n",
    "    cohere_factor::Float64\n",
    "    separation::Float64\n",
    "    separate_factor::Float64\n",
    "    match_factor::Float64\n",
    "    visual_distance::Float64\n",
    "end"
   ],
   "metadata": {},
   "execution_count": null
  },
  {
   "cell_type": "markdown",
   "source": [
    "Model factory function"
   ],
   "metadata": {}
  },
  {
   "outputs": [],
   "cell_type": "code",
   "source": [
    "function initialize_model(;\n",
    "    n_birds = 100,\n",
    "    speed = 1.5,\n",
    "    cohere_factor = 0.1,\n",
    "    separation = 2.0,\n",
    "    separate_factor = 0.25,\n",
    "    match_factor = 0.04,\n",
    "    visual_distance = 5.0,\n",
    "    extent = (100, 100),\n",
    "    seed = 2024,\n",
    ")\n",
    "    space2d = ContinuousSpace(extent; spacing = visual_distance/1.5)\n",
    "    rng = Random.MersenneTwister(seed)\n",
    "\n",
    "    model = StandardABM(Bird, space2d; rng, agent_step!, scheduler = Schedulers.Randomly())\n",
    "    for _ in 1:n_birds\n",
    "        vel = rand(abmrng(model), SVector{2}) * 2 .- 1\n",
    "        add_agent!(\n",
    "            model,\n",
    "            vel,\n",
    "            speed,\n",
    "            cohere_factor,\n",
    "            separation,\n",
    "            separate_factor,\n",
    "            match_factor,\n",
    "            visual_distance,\n",
    "        )\n",
    "    end\n",
    "    return model\n",
    "end"
   ],
   "metadata": {},
   "execution_count": null
  },
  {
   "cell_type": "markdown",
   "source": [
    "Stepping function"
   ],
   "metadata": {}
  },
  {
   "outputs": [],
   "cell_type": "code",
   "source": [
    "function agent_step!(bird, model)\n",
    "    # Obtain the ids of neighbors within the bird's visual distance\n",
    "    neighbor_ids = nearby_ids(bird, model, bird.visual_distance)\n",
    "    N = 0\n",
    "    match = separate = cohere = (0.0, 0.0)\n",
    "    # Calculate behaviour properties based on neighbors\n",
    "    for id in neighbor_ids\n",
    "        N += 1\n",
    "        neighbor = model[id].pos\n",
    "        heading = get_direction(bird.pos, neighbor, model)\n",
    "\n",
    "        # `cohere` computes the average position of neighboring birds\n",
    "        cohere = cohere .+ heading\n",
    "        if euclidean_distance(bird.pos, neighbor, model) < bird.separation\n",
    "            # `separate` repels the bird away from neighboring birds\n",
    "            separate = separate .- heading\n",
    "        end\n",
    "        # `match` computes the average trajectory of neighboring birds\n",
    "        match = match .+ model[id].vel\n",
    "    end\n",
    "\n",
    "    N = max(N, 1)\n",
    "    # Normalise results based on model input and neighbor count\n",
    "    cohere = cohere ./ N .* bird.cohere_factor\n",
    "    separate = separate ./ N .* bird.separate_factor\n",
    "    match = match ./ N .* bird.match_factor\n",
    "    # Compute velocity based on rules defined above\n",
    "    bird.vel = (bird.vel .+ cohere .+ separate .+ match) ./ 2\n",
    "    bird.vel = bird.vel ./ norm(bird.vel)\n",
    "    # Move bird according to new velocity and speed\n",
    "    move_agent!(bird, model, bird.speed)\n",
    "end"
   ],
   "metadata": {},
   "execution_count": null
  },
  {
   "cell_type": "markdown",
   "source": [
    "## Visualization\n",
    "Helper functions"
   ],
   "metadata": {}
  },
  {
   "outputs": [],
   "cell_type": "code",
   "source": [
    "const bird_polygon = Makie.Polygon([Point2f(-1, -1), Point2f(2, 0), Point2f(-1, 1)])\n",
    "function bird_marker(b::Bird)\n",
    "    φ = atan(b.vel[2], b.vel[1]) ##+ π/2 + π\n",
    "    rotate_polygon(bird_polygon, φ)\n",
    "end"
   ],
   "metadata": {},
   "execution_count": null
  },
  {
   "outputs": [],
   "cell_type": "code",
   "source": [
    "model = initialize_model()\n",
    "figure, _ = abmplot(model; agent_marker = '✈',)\n",
    "figure"
   ],
   "metadata": {},
   "execution_count": null
  },
  {
   "cell_type": "markdown",
   "source": [
    "Animation"
   ],
   "metadata": {}
  },
  {
   "outputs": [],
   "cell_type": "code",
   "source": [
    "abmvio(\n",
    "     model;\n",
    "    agent_marker = '✈',\n",
    "    framerate = 20, frames = 150,\n",
    "    title = \"Flocking\",\n",
    ")"
   ],
   "metadata": {},
   "execution_count": null
  },
  {
   "cell_type": "markdown",
   "source": [
    "---\n",
    "\n",
    "*This notebook was generated using [Literate.jl](https://github.com/fredrikekre/Literate.jl).*"
   ],
   "metadata": {}
  }
 ],
 "nbformat_minor": 3,
 "metadata": {
  "language_info": {
   "file_extension": ".jl",
   "mimetype": "application/julia",
   "name": "julia",
   "version": "1.10.4"
  },
  "kernelspec": {
   "name": "julia-1.10",
   "display_name": "Julia 1.10.4",
   "language": "julia"
  }
 },
 "nbformat": 4
}
